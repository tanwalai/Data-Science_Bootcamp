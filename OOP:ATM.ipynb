{
  "nbformat": 4,
  "nbformat_minor": 0,
  "metadata": {
    "colab": {
      "provenance": [],
      "authorship_tag": "ABX9TyMa6haHPe8REtvx+1aJ3Yty"
    },
    "kernelspec": {
      "name": "python3",
      "display_name": "Python 3"
    },
    "language_info": {
      "name": "python"
    }
  },
  "cells": [
    {
      "cell_type": "markdown",
      "source": [
        "## OOP: ATM (5 methods)\n",
        "### สร้าง ATM ที่มี 5 methods ดังนี้\n",
        "- เช็คยอด (check_balance)\n",
        "- ถอนเงินฝาก (withdraw)\n",
        "- ฝากเงิน (deposit)\n",
        "- โอนเงิน (transfer)\n",
        "- เปลี่ยน password (change_password)"
      ],
      "metadata": {
        "id": "1-cHw3k9cLUs"
      }
    },
    {
      "cell_type": "code",
      "execution_count": 80,
      "metadata": {
        "id": "5pc4CYDYcH5G"
      },
      "outputs": [],
      "source": [
        "class Account:\n",
        "    def __init__(self,name,balance,password):\n",
        "        self.name = name\n",
        "        self.balance = balance\n",
        "        self.password = password\n",
        "    def check_balance(self):\n",
        "        pass_input = int(input(\"กรุณาใส่รหัสผ่าน: \")) \n",
        "        if pass_input == self.password:\n",
        "            print(f\"ยอดเงินคงเหลือ: {self.balance}\")\n",
        "        else:\n",
        "            print(\"รหัสผ่านผิด โปรดลองใหม่อีกครั้ง ขออภัยในความไม่สะดวก\")\n",
        "    def withdraw(self,amount):        \n",
        "        pass_input = int(input(\"กรุณาใส่รหัสผ่าน: \"))\n",
        "        if pass_input == self.password and self.balance >= amount:\n",
        "            new_balance = self.balance - amount\n",
        "            self.balance = new_balance\n",
        "            print(f\"ถอนเงินสำเร็จ จำนวน {amount}\\nยอดเงินคงเหลือ: {self.balance}\")\n",
        "        elif pass_input == self.password and self.balance < amount:\n",
        "            print(f\"ขออภัย ยอดเงินคงเหลือของท่านไม่เพียงพอต่อการถอนเงิน โปรดลองใหม่อีกครั้ง\\nยอดเงินคงเหลือ: {self.balance}\")\n",
        "        else:\n",
        "            print(\"รหัสผ่านผิด โปรดลองใหม่อีกครั้ง ขออภัยในความไม่สะดวก\")\n",
        "    def deposit(self,amount):\n",
        "        pass_input = int(input(\"กรุณาใส่รหัสผ่าน: \"))\n",
        "        if pass_input == self.password:\n",
        "            new_balance = self.balance + amount\n",
        "            self.balance = new_balance\n",
        "            print(f\"ฝากเงินสำเร็จ จำนวน {amount}\\nยอดเงินคงเหลือ: {self.balance}\")\n",
        "        else:\n",
        "            print(\"รหัสผ่านผิด โปรดลองใหม่อีกครั้ง ขออภัยในความไม่สะดวก\")\n",
        "    def transfer(self):\n",
        "        bank = input(\"กรุณาพิมพ์ชื่อธนาคาของผู้รับ: \")\n",
        "        payee = input(\"กรุณาใส่เลขบัญชีของผู้รับเงิน: \")\n",
        "        amount = int(input(\"กรุณาใส่จำนวนเงินที่ต้องการโอน: \"))\n",
        "        pass_input = int(input(\"กรุณาใส่รหัสผ่าน เพื่อยืนยันการโอน: \"))\n",
        "        if pass_input == self.password and self.balance >= amount:\n",
        "            new_balance = self.balance - amount\n",
        "            self.balance = new_balance\n",
        "            print(f\"โอนเงินสำเร็จ\\nจาก {self.name}\\nไปยังบัญชี {bank}:{payee} จำนวน {amount}\\nยอดเงินคงเหลือ: {self.balance}\")\n",
        "        elif pass_input == self.password and self.balance < amount:\n",
        "            print(f\"ขออภัย ยอดเงินคงเหลือของท่านไม่เพียงพอต่อการโอนเงิน โปรดลองใหม่อีกครั้ง\\nยอดเงินคงเหลือ: {self.balance}\")\n",
        "        else:\n",
        "            print(\"รหัสผ่านผิด โปรดลองใหม่อีกครั้ง ขออภัยในความไม่สะดวก\")\n",
        "    def change_password(self):\n",
        "        ans = input(\"คุณลืมรหัสผ่านใช่หรือไม่? \\nหากใช่โปรดพิมพ์ yes\\nหากไม่ใช่กรุณาพิมพ์ no\")\n",
        "        while True:\n",
        "            if ans == \"yes\":\n",
        "                phone = input(\"กรุณาใส่เบอร์โทรของท่าน: \")\n",
        "                print(f\"ระบบจะทำการส่ง SMS สำหรับเปลี่ยนรหัสผ่านไปให้ท่านยังเบอร์โทร: {phone}\\\n",
        "                \\nกรุณาตรวจสอบ และเปลี่ยนรหัสผ่านตามวิธีที่ส่งไปให้ ขอบคุณค่ะ\")\n",
        "                break\n",
        "            elif ans == \"no\":\n",
        "                pass_input = int(input(\"กรุณาใส่รหัสผ่านเดิม: \"))\n",
        "                if pass_input == self.password:\n",
        "                    new_password = int(input(\"กรุณาใส่รหัสผ่านใหม่: \"))\n",
        "                    self.password = new_password\n",
        "                    print(f\"เปลี่ยนรหัสผ่านสำเร็จ\\nรหัสผ่านใหม่: {self.password}\")\n",
        "                else:\n",
        "                    print(\"รหัสผ่านผิด โปรดลองใหม่อีกครั้ง ขออภัยในความไม่สะดวก\")\n",
        "                break\n",
        "            else:\n",
        "                ans = input(\"หากท่านลืมรหัสผ่านโปรดพิมพ์ yes\\nหากไม่ใช่กรุณาพิมพ์ no:\")\n"
      ]
    },
    {
      "cell_type": "code",
      "source": [
        "praew = Account(\"Praew\",1000000,221240)"
      ],
      "metadata": {
        "id": "-nzLG0iB7ric"
      },
      "execution_count": 84,
      "outputs": []
    },
    {
      "cell_type": "code",
      "source": [
        "praew.check_balance()"
      ],
      "metadata": {
        "colab": {
          "base_uri": "https://localhost:8080/"
        },
        "id": "cjsRsud4Oksq",
        "outputId": "495a2e0f-b2dd-4c7e-f510-b49a63bdb6dc"
      },
      "execution_count": 21,
      "outputs": [
        {
          "output_type": "stream",
          "name": "stdout",
          "text": [
            "กรุณาใส่รหัสผ่าน: 221240\n",
            "ยอดเงินคงเหลือ: 1000000\n"
          ]
        }
      ]
    },
    {
      "cell_type": "code",
      "source": [
        "praew.withdraw(2000)"
      ],
      "metadata": {
        "colab": {
          "base_uri": "https://localhost:8080/"
        },
        "id": "gA20TYKUOt1z",
        "outputId": "85428fd6-885f-4e49-afa4-1657845e993d"
      },
      "execution_count": 17,
      "outputs": [
        {
          "output_type": "stream",
          "name": "stdout",
          "text": [
            "กรุณาใส่รหัสผ่าน: 221240\n",
            "ถอนเงินสำเร็จ จำนวน 2000\n",
            "ยอดเงินคงเหลือ: 998000\n"
          ]
        }
      ]
    },
    {
      "cell_type": "code",
      "source": [
        "praew.deposit(2000)"
      ],
      "metadata": {
        "colab": {
          "base_uri": "https://localhost:8080/"
        },
        "id": "DwQfw6RfPBve",
        "outputId": "56fed522-26af-4bda-87bc-1a2564591fab"
      },
      "execution_count": 83,
      "outputs": [
        {
          "output_type": "stream",
          "name": "stdout",
          "text": [
            "กรุณาใส่รหัสผ่าน: 14224\n",
            "ฝากเงินสำเร็จ จำนวน 2000\n",
            "ยอดเงินคงเหลือ: 1002000\n"
          ]
        }
      ]
    },
    {
      "cell_type": "code",
      "source": [
        "praew.transfer()"
      ],
      "metadata": {
        "colab": {
          "base_uri": "https://localhost:8080/"
        },
        "id": "Cs3egerQPUS-",
        "outputId": "3fdbf3ed-98ca-4f92-a1f0-12dbe9664c27"
      },
      "execution_count": 31,
      "outputs": [
        {
          "output_type": "stream",
          "name": "stdout",
          "text": [
            "กรุณาพิมพ์ชื่อธนาคาของผู้รับ: kbank\n",
            "กรุณาใส่เลขบัญชีของผู้รับเงิน: 49568697\n",
            "กรุณาใส่จำนวนเงินที่ต้องการโอน: 2000\n",
            "กรุณาใส่รหัสผ่าน เพื่อยืนยันการโอน: 221240\n",
            "โอนเงินสำเร็จ\n",
            "จาก Praew\n",
            "ไปยังบัญชี kbank : 49568697 จำนวน 2000\n",
            "ยอดเงินคงเหลือ: 998000\n"
          ]
        }
      ]
    },
    {
      "cell_type": "code",
      "source": [
        "praew.change_password()"
      ],
      "metadata": {
        "colab": {
          "base_uri": "https://localhost:8080/"
        },
        "id": "KiaTJ0wpSAFN",
        "outputId": "7345d5d4-cd4d-4751-b24d-98d572df7bcf"
      },
      "execution_count": 82,
      "outputs": [
        {
          "output_type": "stream",
          "name": "stdout",
          "text": [
            "คุณลืมรหัสผ่านใช่หรือไม่? \n",
            "หากใช่โปรดพิมพ์ yes\n",
            "หากไม่ใช่กรุณาพิมพ์ nono\n",
            "กรุณาใส่รหัสผ่านเดิม: 221240\n",
            "กรุณาใส่รหัสผ่านใหม่: 14224\n",
            "เปลี่ยนรหัสผ่านสำเร็จ\n",
            "รหัสผ่านใหม่: 14224\n"
          ]
        }
      ]
    }
  ]
}